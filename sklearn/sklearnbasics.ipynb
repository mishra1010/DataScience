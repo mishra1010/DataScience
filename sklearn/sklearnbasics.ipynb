{
 "cells": [
  {
   "cell_type": "code",
   "execution_count": 1,
   "id": "78c3f1e9-7cb6-4dc9-b4dd-0f434e2b2e17",
   "metadata": {},
   "outputs": [
    {
     "name": "stdout",
     "output_type": "stream",
     "text": [
      "Requirement already satisfied: scikit-learn in c:\\programdata\\anaconda3\\lib\\site-packages (1.5.1)\n",
      "Requirement already satisfied: numpy>=1.19.5 in c:\\programdata\\anaconda3\\lib\\site-packages (from scikit-learn) (1.26.4)\n",
      "Requirement already satisfied: scipy>=1.6.0 in c:\\programdata\\anaconda3\\lib\\site-packages (from scikit-learn) (1.13.1)\n",
      "Requirement already satisfied: joblib>=1.2.0 in c:\\programdata\\anaconda3\\lib\\site-packages (from scikit-learn) (1.4.2)\n",
      "Requirement already satisfied: threadpoolctl>=3.1.0 in c:\\programdata\\anaconda3\\lib\\site-packages (from scikit-learn) (3.5.0)\n",
      "Note: you may need to restart the kernel to use updated packages.\n"
     ]
    }
   ],
   "source": [
    "pip install scikit-learn"
   ]
  },
  {
   "cell_type": "code",
   "execution_count": 3,
   "id": "47abf452-9450-4ae9-9119-1126ac608f08",
   "metadata": {},
   "outputs": [],
   "source": [
    "# First model\n",
    "\n",
    "from sklearn.tree import DecisionTreeClassifier"
   ]
  },
  {
   "cell_type": "code",
   "execution_count": 5,
   "id": "ca49ecf1-14ec-411d-99b7-d5717fdd922a",
   "metadata": {},
   "outputs": [],
   "source": [
    "features = [[150, 0],\n",
    "           [170,0],\n",
    "           [130,1],\n",
    "            [120,1]]"
   ]
  },
  {
   "cell_type": "code",
   "execution_count": 7,
   "id": "c7dc64bf-71bb-4441-bb2f-dd1f1e6f4844",
   "metadata": {},
   "outputs": [],
   "source": [
    "labels = [\"apple\", \"apple\", \"orange\", \"orange\"]"
   ]
  },
  {
   "cell_type": "code",
   "execution_count": 9,
   "id": "0906fb95-c01e-4567-bd68-2b7a79b53bcf",
   "metadata": {},
   "outputs": [],
   "source": [
    "clf = DecisionTreeClassifier()"
   ]
  },
  {
   "cell_type": "code",
   "execution_count": 11,
   "id": "79042834-b792-4127-ae33-60118372f8ca",
   "metadata": {},
   "outputs": [],
   "source": [
    "clf = clf.fit(features, labels)"
   ]
  },
  {
   "cell_type": "code",
   "execution_count": 19,
   "id": "fa434ce2-1138-466d-a400-a7f0ee414005",
   "metadata": {},
   "outputs": [],
   "source": [
    "prediction = clf.predict([[150, 1], [34,0]])"
   ]
  },
  {
   "cell_type": "code",
   "execution_count": 23,
   "id": "a7b39f24-66e5-4c3f-914d-9a4028dcc3bf",
   "metadata": {},
   "outputs": [
    {
     "name": "stdout",
     "output_type": "stream",
     "text": [
      "The fruit is ('orange', 'apple')\n"
     ]
    }
   ],
   "source": [
    "print(f\"The fruit is {prediction[0], prediction[1]}\")"
   ]
  }
 ],
 "metadata": {
  "kernelspec": {
   "display_name": "Python [conda env:base] *",
   "language": "python",
   "name": "conda-base-py"
  },
  "language_info": {
   "codemirror_mode": {
    "name": "ipython",
    "version": 3
   },
   "file_extension": ".py",
   "mimetype": "text/x-python",
   "name": "python",
   "nbconvert_exporter": "python",
   "pygments_lexer": "ipython3",
   "version": "3.12.7"
  }
 },
 "nbformat": 4,
 "nbformat_minor": 5
}
