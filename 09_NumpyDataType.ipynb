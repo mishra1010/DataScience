{
 "cells": [
  {
   "cell_type": "code",
   "execution_count": 4,
   "id": "ac073285-6a41-483f-9fa6-6582b90f48b5",
   "metadata": {},
   "outputs": [],
   "source": [
    "import numpy as np"
   ]
  },
  {
   "cell_type": "code",
   "execution_count": 6,
   "id": "8d0be916-bf82-4a6e-aec1-a3e525f8d3ad",
   "metadata": {},
   "outputs": [],
   "source": [
    "arr = np.array([23,4,3,32])"
   ]
  },
  {
   "cell_type": "code",
   "execution_count": 8,
   "id": "3d7c6251-a70a-4ce1-ae42-e00555cc4584",
   "metadata": {},
   "outputs": [
    {
     "data": {
      "text/plain": [
       "dtype('int32')"
      ]
     },
     "execution_count": 8,
     "metadata": {},
     "output_type": "execute_result"
    }
   ],
   "source": [
    "arr.dtype"
   ]
  },
  {
   "cell_type": "code",
   "execution_count": 10,
   "id": "6ead0c02-69a9-458d-90a1-bdf9289b1d22",
   "metadata": {},
   "outputs": [
    {
     "data": {
      "text/plain": [
       "array([23.,  4.,  3., 32.])"
      ]
     },
     "execution_count": 10,
     "metadata": {},
     "output_type": "execute_result"
    }
   ],
   "source": [
    "arr.astype('float64')"
   ]
  },
  {
   "cell_type": "code",
   "execution_count": 22,
   "id": "1fe908b9-39e6-49a2-a073-86ec034d8ad5",
   "metadata": {},
   "outputs": [],
   "source": [
    "arr2 = np.array([23,4,3,32,1])"
   ]
  },
  {
   "cell_type": "code",
   "execution_count": 20,
   "id": "c3a1b81e-9d69-4975-b780-96d88bd860aa",
   "metadata": {},
   "outputs": [
    {
     "data": {
      "text/plain": [
       "dtype('int32')"
      ]
     },
     "execution_count": 20,
     "metadata": {},
     "output_type": "execute_result"
    }
   ],
   "source": [
    "\n",
    "arr2.dtype"
   ]
  },
  {
   "cell_type": "code",
   "execution_count": 16,
   "id": "1a8ded74-11e3-4a85-b022-11000c63d7a9",
   "metadata": {},
   "outputs": [
    {
     "data": {
      "text/plain": [
       "16"
      ]
     },
     "execution_count": 16,
     "metadata": {},
     "output_type": "execute_result"
    }
   ],
   "source": [
    "arr.nbytes"
   ]
  },
  {
   "cell_type": "code",
   "execution_count": 24,
   "id": "485d7a5d-1b9c-485c-ad3e-dd497853cd70",
   "metadata": {},
   "outputs": [
    {
     "data": {
      "text/plain": [
       "20"
      ]
     },
     "execution_count": 24,
     "metadata": {},
     "output_type": "execute_result"
    }
   ],
   "source": [
    "arr2.nbytes # each number is 4 bytes and hence 5 elements *4 bytes= 20 bytes or int64 will make it 8 bytes each"
   ]
  },
  {
   "cell_type": "code",
   "execution_count": null,
   "id": "0f7a802f-e2df-40df-b90f-1bc270efe061",
   "metadata": {},
   "outputs": [],
   "source": [
    "#Numpy is mainly used for numbers and so using strings is not a great idea\n",
    "arr3 = np.array(['a','b'], dtype='U10' or 'str')"
   ]
  },
  {
   "cell_type": "code",
   "execution_count": 26,
   "id": "ed6dbf84-d5fa-435b-81ad-d43a1aec2904",
   "metadata": {},
   "outputs": [
    {
     "name": "stdout",
     "output_type": "stream",
     "text": [
      "[1.+2.j 3.+4.j 5.+6.j]\n"
     ]
    }
   ],
   "source": [
    "arr = np.array([1+2j, 3+4j, 5+6j], dtype='complex128')\n",
    "print(arr)"
   ]
  },
  {
   "cell_type": "code",
   "execution_count": 28,
   "id": "76f34f2d-3e0a-49f5-b1c6-3073c6d5bcf1",
   "metadata": {},
   "outputs": [
    {
     "name": "stdout",
     "output_type": "stream",
     "text": [
      "[{'a': 1} list([1, 2, 3]) 'hello']\n"
     ]
    }
   ],
   "source": [
    "arr = np.array([{'a':1}, [1,2,3], 'hello'], dtype=object)\n",
    "print(arr)"
   ]
  }
 ],
 "metadata": {
  "kernelspec": {
   "display_name": "Python [conda env:base] *",
   "language": "python",
   "name": "conda-base-py"
  },
  "language_info": {
   "codemirror_mode": {
    "name": "ipython",
    "version": 3
   },
   "file_extension": ".py",
   "mimetype": "text/x-python",
   "name": "python",
   "nbconvert_exporter": "python",
   "pygments_lexer": "ipython3",
   "version": "3.12.7"
  }
 },
 "nbformat": 4,
 "nbformat_minor": 5
}
