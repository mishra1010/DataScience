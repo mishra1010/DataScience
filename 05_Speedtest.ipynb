{
 "cells": [
  {
   "cell_type": "code",
   "execution_count": 25,
   "id": "298dd791-9b5b-4960-bbc5-17ee9af55131",
   "metadata": {},
   "outputs": [
    {
     "name": "stdout",
     "output_type": "stream",
     "text": [
      "[0, 2, 4, 6, 8, 10, 12, 14, 16, 18]\n",
      "0.1149604320526123\n"
     ]
    }
   ],
   "source": [
    "# Using python lists\n",
    "import numpy as np\n",
    "import time\n",
    "\n",
    "size = 1000000\n",
    "#Measure time\n",
    "\n",
    "l1 = list(range(size))\n",
    "l2 = list(range(size))\n",
    "\n",
    "start = time.time()\n",
    "add = [x+y for x,y in zip(l1, l2)]\n",
    "\n",
    "end = time.time()\n",
    "print(add[0:10])\n",
    "print(end - start)"
   ]
  },
  {
   "cell_type": "code",
   "execution_count": 27,
   "id": "f7f49c5a-6c01-4cc7-92d9-a0e30db6aa37",
   "metadata": {},
   "outputs": [
    {
     "name": "stdout",
     "output_type": "stream",
     "text": [
      "[ 0  2  4  6  8 10 12 14 16 18]\n",
      "0.020006418228149414\n"
     ]
    }
   ],
   "source": [
    "# Using numpy arrays\n",
    "import numpy as np\n",
    "import time\n",
    "\n",
    "size = 1000000\n",
    "#Measure time\n",
    "\n",
    "l1 = np.array(list(range(size)))\n",
    "l2 = np.array(list(range(size)))\n",
    "\n",
    "start = time.time()\n",
    "add = l1 + l2\n",
    "\n",
    "end = time.time()\n",
    "print(add[0:10])\n",
    "print(end - start)"
   ]
  },
  {
   "cell_type": "code",
   "execution_count": 36,
   "id": "67cb6354-ef4b-4617-a518-5c5b23b0a61a",
   "metadata": {},
   "outputs": [
    {
     "name": "stdout",
     "output_type": "stream",
     "text": [
      "[(1, 6), (2, 7), (4, 8)]\n"
     ]
    }
   ],
   "source": [
    "# Python zip explained\n",
    "l1 = [1, 2, 4]\n",
    "l2 = [6, 7, 8]\n",
    "list(zip(l1,l2))\n",
    "zip(l1,l2)\n",
    "print(list(zip(l1,l2)))"
   ]
  },
  {
   "cell_type": "code",
   "execution_count": 38,
   "id": "f85855d4-2d79-4bcf-94ca-5cae06933bcb",
   "metadata": {},
   "outputs": [
    {
     "data": {
      "text/plain": [
       "array([1, 2, 3, 4, 5, 6])"
      ]
     },
     "execution_count": 38,
     "metadata": {},
     "output_type": "execute_result"
    }
   ],
   "source": [
    "np.array([1,2,3,4,5,6])"
   ]
  },
  {
   "cell_type": "code",
   "execution_count": 44,
   "id": "466bb2ea-3584-46bc-9ea3-e38ff3bfeca5",
   "metadata": {},
   "outputs": [],
   "source": [
    "arr = np.array([[1,2,3], [4,5,6]])"
   ]
  },
  {
   "cell_type": "code",
   "execution_count": 46,
   "id": "2e9a3bf6-df7e-48ab-b149-02b736de77d3",
   "metadata": {},
   "outputs": [
    {
     "data": {
      "text/plain": [
       "numpy.ndarray"
      ]
     },
     "execution_count": 46,
     "metadata": {},
     "output_type": "execute_result"
    }
   ],
   "source": [
    "type(arr)"
   ]
  },
  {
   "cell_type": "code",
   "execution_count": 48,
   "id": "bda971e0-4a4c-4a0d-ae14-b2bc10f37f5f",
   "metadata": {},
   "outputs": [
    {
     "data": {
      "text/plain": [
       "(2, 3)"
      ]
     },
     "execution_count": 48,
     "metadata": {},
     "output_type": "execute_result"
    }
   ],
   "source": [
    "arr.shape"
   ]
  },
  {
   "cell_type": "code",
   "execution_count": 50,
   "id": "16ce639b-2ee2-4a94-b1cc-ede85bb31832",
   "metadata": {},
   "outputs": [
    {
     "name": "stdout",
     "output_type": "stream",
     "text": [
      "Python list size: 8056000 bytes\n",
      "Numpy array size: 4000 bytes\n"
     ]
    }
   ],
   "source": [
    "# Memory efficiency of Numpy\n",
    "import sys\n",
    "list_data = list(range(1000))\n",
    "numpy_data = np.array(list_data)\n",
    "print(\"Python list size:\", sys.getsizeof(list_data) * len(list_data), \"bytes\")\n",
    "print(\"Numpy array size:\", numpy_data.nbytes, \"bytes\")"
   ]
  },
  {
   "cell_type": "code",
   "execution_count": 60,
   "id": "7678e9e7-cdbe-4618-8798-48e74a12f1cd",
   "metadata": {},
   "outputs": [
    {
     "name": "stdout",
     "output_type": "stream",
     "text": [
      "0.12043595314025879\n",
      "0.0019998550415039062\n"
     ]
    }
   ],
   "source": [
    "#Squaring elements - Numpy is cleaner and faster\n",
    "list1 = list(range(1000000))\n",
    "arr1 = np.array(list(range(1000000)))\n",
    "start = time.time()\n",
    "list_squares = [x**2 for x in list1] #(normal python is loop based)\n",
    "end = time.time()\n",
    "print(end-start)\n",
    "start1 = time.time()\n",
    "numpy_squares = arr1**2 #(vectorized, uses SIMD and other low-level optimizations)\n",
    "end1 = time.time()\n",
    "print(end1-start1)"
   ]
  }
 ],
 "metadata": {
  "kernelspec": {
   "display_name": "Python [conda env:base] *",
   "language": "python",
   "name": "conda-base-py"
  },
  "language_info": {
   "codemirror_mode": {
    "name": "ipython",
    "version": 3
   },
   "file_extension": ".py",
   "mimetype": "text/x-python",
   "name": "python",
   "nbconvert_exporter": "python",
   "pygments_lexer": "ipython3",
   "version": "3.12.7"
  }
 },
 "nbformat": 4,
 "nbformat_minor": 5
}
