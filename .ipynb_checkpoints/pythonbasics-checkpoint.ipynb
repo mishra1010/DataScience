{
 "cells": [
  {
   "cell_type": "code",
   "execution_count": 5,
   "id": "6cca042a-5aaf-4b6c-94e7-03a381eb69ff",
   "metadata": {},
   "outputs": [],
   "source": [
    "a = 5"
   ]
  },
  {
   "cell_type": "code",
   "execution_count": 7,
   "id": "dac83b85-0808-4b76-9433-aabbaf1320d4",
   "metadata": {},
   "outputs": [],
   "source": [
    "b = 32"
   ]
  },
  {
   "cell_type": "code",
   "execution_count": 9,
   "id": "3141af64-c654-4884-b0c7-ae8217e0597c",
   "metadata": {},
   "outputs": [
    {
     "data": {
      "text/plain": [
       "37"
      ]
     },
     "execution_count": 9,
     "metadata": {},
     "output_type": "execute_result"
    }
   ],
   "source": [
    "a + b"
   ]
  },
  {
   "cell_type": "code",
   "execution_count": 17,
   "id": "52ffdf54-b77d-4b26-a62f-5ec98e1e598d",
   "metadata": {},
   "outputs": [],
   "source": [
    "name = \"Deepak\""
   ]
  },
  {
   "cell_type": "code",
   "execution_count": 15,
   "id": "f673898e-ecec-4382-bc67-84aa22c69401",
   "metadata": {},
   "outputs": [
    {
     "name": "stdout",
     "output_type": "stream",
     "text": [
      "Hello\n"
     ]
    }
   ],
   "source": [
    "print(\"Hello\")"
   ]
  },
  {
   "cell_type": "code",
   "execution_count": 19,
   "id": "462f6dc0-a175-4a6a-8553-afe98dd6ab9c",
   "metadata": {},
   "outputs": [
    {
     "data": {
      "text/plain": [
       "str"
      ]
     },
     "execution_count": 19,
     "metadata": {},
     "output_type": "execute_result"
    }
   ],
   "source": [
    "type(name)"
   ]
  },
  {
   "cell_type": "code",
   "execution_count": 21,
   "id": "1c6dbbb4-6605-48c8-a422-5a09615216bf",
   "metadata": {},
   "outputs": [],
   "source": [
    "x = \"123\""
   ]
  },
  {
   "cell_type": "code",
   "execution_count": 23,
   "id": "c9d5a37f-6799-4d80-93a0-09ddf5feb03e",
   "metadata": {},
   "outputs": [],
   "source": [
    "y = \"234\""
   ]
  },
  {
   "cell_type": "code",
   "execution_count": 25,
   "id": "25b7ba79-a5fd-4af9-baba-047e2d9f04b3",
   "metadata": {},
   "outputs": [
    {
     "data": {
      "text/plain": [
       "357"
      ]
     },
     "execution_count": 25,
     "metadata": {},
     "output_type": "execute_result"
    }
   ],
   "source": [
    "int(x) + int(y) #Typecasting"
   ]
  },
  {
   "cell_type": "code",
   "execution_count": 27,
   "id": "2a4cd007-587d-48f2-b576-966ac2b42ce9",
   "metadata": {},
   "outputs": [
    {
     "data": {
      "text/plain": [
       "'123234'"
      ]
     },
     "execution_count": 27,
     "metadata": {},
     "output_type": "execute_result"
    }
   ],
   "source": [
    "x+y"
   ]
  }
 ],
 "metadata": {
  "kernelspec": {
   "display_name": "Python [conda env:base] *",
   "language": "python",
   "name": "conda-base-py"
  },
  "language_info": {
   "codemirror_mode": {
    "name": "ipython",
    "version": 3
   },
   "file_extension": ".py",
   "mimetype": "text/x-python",
   "name": "python",
   "nbconvert_exporter": "python",
   "pygments_lexer": "ipython3",
   "version": "3.12.7"
  }
 },
 "nbformat": 4,
 "nbformat_minor": 5
}
