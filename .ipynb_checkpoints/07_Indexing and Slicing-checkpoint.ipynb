{
 "cells": [
  {
   "cell_type": "code",
   "execution_count": 6,
   "id": "dd6f6c50-050e-44b8-a04b-b61caccc3bd3",
   "metadata": {},
   "outputs": [],
   "source": [
    "import numpy as np\n",
    "arr = np.array([[1,2,3],[4,5,6],[7,8,9],[11,12,13]])"
   ]
  },
  {
   "cell_type": "code",
   "execution_count": 8,
   "id": "0476bd23-ed2b-431a-a2fb-652274aed02d",
   "metadata": {},
   "outputs": [
    {
     "data": {
      "text/plain": [
       "array([[ 1,  2,  3],\n",
       "       [ 4,  5,  6],\n",
       "       [ 7,  8,  9],\n",
       "       [11, 12, 13]])"
      ]
     },
     "execution_count": 8,
     "metadata": {},
     "output_type": "execute_result"
    }
   ],
   "source": [
    "arr"
   ]
  },
  {
   "cell_type": "code",
   "execution_count": 12,
   "id": "4a9e35cf-327d-4ef1-b86d-7a781e9a2d9d",
   "metadata": {},
   "outputs": [],
   "source": [
    "flat = arr.flatten()"
   ]
  },
  {
   "cell_type": "code",
   "execution_count": 14,
   "id": "8166f31f-72e2-47dc-b3e3-34203ebb6b5f",
   "metadata": {},
   "outputs": [
    {
     "data": {
      "text/plain": [
       "array([ 1,  2,  3,  4,  5,  6,  7,  8,  9, 11, 12, 13])"
      ]
     },
     "execution_count": 14,
     "metadata": {},
     "output_type": "execute_result"
    }
   ],
   "source": [
    "flat"
   ]
  },
  {
   "cell_type": "code",
   "execution_count": 16,
   "id": "413f20e3-dbdf-4486-87c5-e705825867e7",
   "metadata": {},
   "outputs": [
    {
     "data": {
      "text/plain": [
       "1"
      ]
     },
     "execution_count": 16,
     "metadata": {},
     "output_type": "execute_result"
    }
   ],
   "source": [
    "flat[0]"
   ]
  },
  {
   "cell_type": "code",
   "execution_count": 18,
   "id": "0be37a57-ed8b-4d5d-bff0-f5ceee7a07eb",
   "metadata": {},
   "outputs": [
    {
     "data": {
      "text/plain": [
       "array([4, 5, 6])"
      ]
     },
     "execution_count": 18,
     "metadata": {},
     "output_type": "execute_result"
    }
   ],
   "source": [
    "flat[3:6]"
   ]
  },
  {
   "cell_type": "code",
   "execution_count": 20,
   "id": "a7f42586-43d8-4783-a0fc-6b2683f38826",
   "metadata": {},
   "outputs": [
    {
     "data": {
      "text/plain": [
       "array([1, 2, 3, 4, 5])"
      ]
     },
     "execution_count": 20,
     "metadata": {},
     "output_type": "execute_result"
    }
   ],
   "source": [
    "flat[:5] #same as flat[0:5]"
   ]
  },
  {
   "cell_type": "code",
   "execution_count": 22,
   "id": "de4e4ab3-f10c-4dae-bd28-8168760fca00",
   "metadata": {},
   "outputs": [
    {
     "data": {
      "text/plain": [
       "array([ 5,  6,  7,  8,  9, 11, 12, 13])"
      ]
     },
     "execution_count": 22,
     "metadata": {},
     "output_type": "execute_result"
    }
   ],
   "source": [
    "flat[4:] #sa,e as flat[4:(length of array-1)]"
   ]
  },
  {
   "cell_type": "code",
   "execution_count": 24,
   "id": "f0fd0c6e-bffa-4acf-aecc-29cdd48233c0",
   "metadata": {},
   "outputs": [],
   "source": [
    "b = flat[3:7]"
   ]
  },
  {
   "cell_type": "code",
   "execution_count": 26,
   "id": "b8518de3-0ed7-40c3-be72-d35258cdd4c6",
   "metadata": {},
   "outputs": [
    {
     "data": {
      "text/plain": [
       "array([4, 5, 6, 7])"
      ]
     },
     "execution_count": 26,
     "metadata": {},
     "output_type": "execute_result"
    }
   ],
   "source": [
    "b"
   ]
  },
  {
   "cell_type": "code",
   "execution_count": 28,
   "id": "91683937-8042-49ed-80d5-70c8f8da98de",
   "metadata": {},
   "outputs": [],
   "source": [
    "b[0]=4444"
   ]
  },
  {
   "cell_type": "code",
   "execution_count": 30,
   "id": "b490d755-ec85-48f6-add4-ea3acafcbad7",
   "metadata": {},
   "outputs": [
    {
     "data": {
      "text/plain": [
       "array([4444,    5,    6,    7])"
      ]
     },
     "execution_count": 30,
     "metadata": {},
     "output_type": "execute_result"
    }
   ],
   "source": [
    "b"
   ]
  },
  {
   "cell_type": "code",
   "execution_count": 32,
   "id": "b74dcb7d-2dfa-438c-85f0-9bda66a07a6c",
   "metadata": {},
   "outputs": [
    {
     "data": {
      "text/plain": [
       "array([   1,    2,    3, 4444,    5,    6,    7,    8,    9,   11,   12,\n",
       "         13])"
      ]
     },
     "execution_count": 32,
     "metadata": {},
     "output_type": "execute_result"
    }
   ],
   "source": [
    "flat"
   ]
  },
  {
   "cell_type": "code",
   "execution_count": 36,
   "id": "341b935d-60b7-4c59-8bd2-585f4c0c6e84",
   "metadata": {},
   "outputs": [],
   "source": [
    " b = flat[3:7].copy() #This is not a slice as we have used copy method"
   ]
  },
  {
   "cell_type": "code",
   "execution_count": 40,
   "id": "83eb37f2-3062-4a9e-9458-18c936d60fb4",
   "metadata": {},
   "outputs": [],
   "source": [
    "b[3]=3333"
   ]
  },
  {
   "cell_type": "code",
   "execution_count": 42,
   "id": "e5c33a0d-d2a9-4fd1-a86f-d9a545b97a37",
   "metadata": {},
   "outputs": [
    {
     "data": {
      "text/plain": [
       "array([4444,    5,    6, 3333])"
      ]
     },
     "execution_count": 42,
     "metadata": {},
     "output_type": "execute_result"
    }
   ],
   "source": [
    "b"
   ]
  },
  {
   "cell_type": "code",
   "execution_count": 44,
   "id": "bb1f73e3-560a-4363-9e85-3c81d9bb1d59",
   "metadata": {},
   "outputs": [
    {
     "data": {
      "text/plain": [
       "array([   1,    2,    3, 4444,    5,    6,    7,    8,    9,   11,   12,\n",
       "         13])"
      ]
     },
     "execution_count": 44,
     "metadata": {},
     "output_type": "execute_result"
    }
   ],
   "source": [
    "flat"
   ]
  },
  {
   "cell_type": "code",
   "execution_count": 46,
   "id": "3e5e088e-575f-4eab-950c-c62aa06c868b",
   "metadata": {},
   "outputs": [
    {
     "ename": "IndexError",
     "evalue": "index 6 is out of bounds for axis 0 with size 4",
     "output_type": "error",
     "traceback": [
      "\u001b[1;31m---------------------------------------------------------------------------\u001b[0m",
      "\u001b[1;31mIndexError\u001b[0m                                Traceback (most recent call last)",
      "Cell \u001b[1;32mIn[46], line 3\u001b[0m\n\u001b[0;32m      1\u001b[0m a \u001b[38;5;241m=\u001b[39m [\u001b[38;5;241m1\u001b[39m,\u001b[38;5;241m2\u001b[39m,\u001b[38;5;241m3\u001b[39m,\u001b[38;5;241m4\u001b[39m,\u001b[38;5;241m5\u001b[39m,\u001b[38;5;241m6\u001b[39m,\u001b[38;5;241m7\u001b[39m,\u001b[38;5;241m8\u001b[39m]\n\u001b[0;32m      2\u001b[0m idx \u001b[38;5;241m=\u001b[39m [\u001b[38;5;241m0\u001b[39m,\u001b[38;5;241m3\u001b[39m,\u001b[38;5;241m6\u001b[39m]\n\u001b[1;32m----> 3\u001b[0m \u001b[38;5;28mprint\u001b[39m(arr[idx])\n",
      "\u001b[1;31mIndexError\u001b[0m: index 6 is out of bounds for axis 0 with size 4"
     ]
    }
   ],
   "source": [
    "a = [1,2,3,4,5,6,7,8]\n",
    "idx = [0,3,6]\n",
    "print(arr[idx])"
   ]
  },
  {
   "cell_type": "code",
   "execution_count": null,
   "id": "68d6b2f9-b3f0-4d4f-a07c-eae1f8ee1c2b",
   "metadata": {},
   "outputs": [],
   "source": []
  }
 ],
 "metadata": {
  "kernelspec": {
   "display_name": "Python [conda env:base] *",
   "language": "python",
   "name": "conda-base-py"
  },
  "language_info": {
   "codemirror_mode": {
    "name": "ipython",
    "version": 3
   },
   "file_extension": ".py",
   "mimetype": "text/x-python",
   "name": "python",
   "nbconvert_exporter": "python",
   "pygments_lexer": "ipython3",
   "version": "3.12.7"
  }
 },
 "nbformat": 4,
 "nbformat_minor": 5
}
