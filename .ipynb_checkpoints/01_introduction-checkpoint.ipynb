{
 "cells": [
  {
   "cell_type": "code",
   "execution_count": 40,
   "id": "f3d2fb9a-0bf9-455f-a257-61d472fb3b55",
   "metadata": {},
   "outputs": [],
   "source": [
    "#Coders of Delhi - Data load, clean and fine people, pages\n",
    "import json"
   ]
  },
  {
   "cell_type": "code",
   "execution_count": 20,
   "id": "fa6e5405-16de-46de-a745-e67da4a767e2",
   "metadata": {},
   "outputs": [],
   "source": [
    "# Function to load data\n",
    "def load_data(filename):\n",
    "    with open(filename, \"r\") as f:\n",
    "        data = json.load(f)\n",
    "    return data"
   ]
  },
  {
   "cell_type": "code",
   "execution_count": 22,
   "id": "dde609d6-9ccd-4af1-bee8-cff07ba4c9fe",
   "metadata": {},
   "outputs": [],
   "source": [
    "data = load_data(\"data.json\")"
   ]
  },
  {
   "cell_type": "code",
   "execution_count": 24,
   "id": "d052d870-550c-4a72-a59f-4697548e7430",
   "metadata": {},
   "outputs": [
    {
     "data": {
      "text/plain": [
       "{'users': [{'id': 1, 'name': 'Amit', 'friends': [2, 3], 'liked_pages': [101]},\n",
       "  {'id': 2, 'name': 'Priya', 'friends': [1, 4], 'liked_pages': [102]},\n",
       "  {'id': 3, 'name': 'Rahul', 'friends': [1], 'liked_pages': [101, 103]},\n",
       "  {'id': 4, 'name': 'Sara', 'friends': [2], 'liked_pages': [104]}],\n",
       " 'pages': [{'id': 101, 'name': 'Python Developers'},\n",
       "  {'id': 102, 'name': 'Data Science Enthusiasts'},\n",
       "  {'id': 103, 'name': 'AI & ML Community'},\n",
       "  {'id': 104, 'name': 'Web Dev Hub'}]}"
      ]
     },
     "execution_count": 24,
     "metadata": {},
     "output_type": "execute_result"
    }
   ],
   "source": [
    "data"
   ]
  },
  {
   "cell_type": "code",
   "execution_count": 26,
   "id": "e8da51a5-2490-4928-96dd-9ddc83890802",
   "metadata": {},
   "outputs": [
    {
     "data": {
      "text/plain": [
       "dict"
      ]
     },
     "execution_count": 26,
     "metadata": {},
     "output_type": "execute_result"
    }
   ],
   "source": [
    "type(data)"
   ]
  },
  {
   "cell_type": "code",
   "execution_count": 38,
   "id": "fbb7e031-c6d8-47f2-8704-a482bdb15ad0",
   "metadata": {},
   "outputs": [
    {
     "name": "stdout",
     "output_type": "stream",
     "text": [
      "Users and their connections\n",
      "\n",
      "ID:1 - Amit is friends with [2, 3] and liked pages are [101]\n",
      "ID:2 - Priya is friends with [1, 4] and liked pages are [102]\n",
      "ID:3 - Rahul is friends with [1] and liked pages are [101, 103]\n",
      "ID:4 - Sara is friends with [2] and liked pages are [104]\n",
      "\n",
      ".....Pages Information....\n",
      "101 : Python Developers\n",
      "102 : Data Science Enthusiasts\n",
      "103 : AI & ML Community\n",
      "104 : Web Dev Hub\n"
     ]
    }
   ],
   "source": [
    "#write a function to display users and their connections\n",
    "def display_users(data):\n",
    "    print(\"Users and their connections\\n\")\n",
    "    for user in data['users']:\n",
    "        print(f\"ID:{user['id']} - {user['name']} is friends with {user['friends']} and liked pages are {user['liked_pages']}\")\n",
    "    print(\"\\n.....Pages Information....\")\n",
    "    for page in data['pages']:\n",
    "        print(f\"{page['id']} : {page['name']}\")\n",
    "display_users(data)"
   ]
  }
 ],
 "metadata": {
  "kernelspec": {
   "display_name": "Python [conda env:base] *",
   "language": "python",
   "name": "conda-base-py"
  },
  "language_info": {
   "codemirror_mode": {
    "name": "ipython",
    "version": 3
   },
   "file_extension": ".py",
   "mimetype": "text/x-python",
   "name": "python",
   "nbconvert_exporter": "python",
   "pygments_lexer": "ipython3",
   "version": "3.12.7"
  }
 },
 "nbformat": 4,
 "nbformat_minor": 5
}
