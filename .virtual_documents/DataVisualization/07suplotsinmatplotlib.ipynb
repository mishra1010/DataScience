import matplotlib.pyplot as plt
x = [1,2,3,4,5]
y1 = [i*2 for i in x]
y2 = [i**2 for i in x]


plt.subplot(1,2,1)
plt.plot(x,y1)
plt.title("Double of x")
plt.xlabel("Number")
plt.ylabel("Double of Number")

plt.subplot(1,2,2)
plt.plot(x,y2)
plt.title("Square of x")
plt.tight_layout()


#2*2 grids
## 2. 2×2 Grid of Subplots

# More variations of x
y3 = [i ** 0.5 for i in x]
y4 = [10 - i for i in x]

plt.figure(figsize=(8, 6))  # Optional: make it bigger

plt.subplot(2, 2, 1)
plt.plot(x, y1)
plt.title('x * 2')

plt.subplot(2, 2, 2)
plt.plot(x, y2)
plt.title('x squared')

plt.subplot(2, 2, 3)
plt.plot(x, y3)
plt.title('sqrt(x)')

plt.subplot(2, 2, 4)
plt.plot(x, y4)
plt.title('10 - x')

plt.tight_layout()


fig, axs = plt.subplots(1,2, figsize=(10,4))
axs[0].plot(x,y1)
axs[0].set_title("x*2")

axs[1].plot(x,y2)
axs[1].set_title("x**2")

fig.suptitle("My Comparison Plot", fontsize=14)



