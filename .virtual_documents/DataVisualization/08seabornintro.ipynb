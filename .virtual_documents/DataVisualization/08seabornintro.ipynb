import seaborn as sns
import numpy as np


sns.set_theme(style="darkgrid")


x = np.array([1,3,5,44,66,88,33,22,89,90])


y = np.sin(x)


sns.lineplot(x=x, y=y)
