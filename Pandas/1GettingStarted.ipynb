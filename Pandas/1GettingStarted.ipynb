{
 "cells": [
  {
   "cell_type": "code",
   "execution_count": null,
   "id": "5e7332fd-a462-4096-b649-a2da3c0be517",
   "metadata": {},
   "outputs": [],
   "source": []
  },
  {
   "cell_type": "markdown",
   "id": "8d78bcbf",
   "metadata": {},
   "source": [
    "## Day 12 - Getting started with Pandas\n",
    "\n",
    "powerful open source python library used for data manipulation, cleaning and analysis. it's built on Numpy. It uses 2 main data structures\n",
    "\n",
    "1. Series : 1D-labeled array\n",
    "2. Dataframe : 2D- labeled table(like Excel or SQL table)\n",
    "\n",
    "Pandas is to be used when we work with tables, spreadsheets or csvs in python. it makes structured data fast, expressive and flexible.\n",
    "Pandas has the speed of numpy and usability of excel. Anytime we work with structured data we will use pandas. Any dastscientist will be using Pandas"
   ]
  }
 ],
 "metadata": {
  "kernelspec": {
   "display_name": "Python [conda env:base] *",
   "language": "python",
   "name": "conda-base-py"
  },
  "language_info": {
   "codemirror_mode": {
    "name": "ipython",
    "version": 3
   },
   "file_extension": ".py",
   "mimetype": "text/x-python",
   "name": "python",
   "nbconvert_exporter": "python",
   "pygments_lexer": "ipython3",
   "version": "3.12.7"
  }
 },
 "nbformat": 4,
 "nbformat_minor": 5
}
